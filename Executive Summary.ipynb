{
 "cells": [
  {
   "cell_type": "markdown",
   "metadata": {},
   "source": [
    "# **Executive Summary**"
   ]
  },
  {
   "cell_type": "markdown",
   "metadata": {},
   "source": [
    "## Purpose of the project:"
   ]
  },
  {
   "cell_type": "markdown",
   "metadata": {},
   "source": [
    "**The XYZ supermarket data was analyzed to understand sales trends and determine the growth of the company**"
   ]
  },
  {
   "cell_type": "markdown",
   "metadata": {},
   "source": [
    "## Key insights and recommendations:"
   ]
  },
  {
   "cell_type": "markdown",
   "metadata": {},
   "source": [
    "**1) The most active sales personnel should be engaged between 7-8pm daily, because sales are at the peak at this time of the day.\n",
    "<br>2) Strategies should be put in place to turn more regular customers, particularly female customers,  into member customers.<br>This could motivate customers to buy more items at the supermarket.\n",
    "<br>3) Food and beverage items should be given a higher priority in terms of availability.\n",
    "<br>4) The epay method of payment should always be available (especially in the Lagos and Abuja branches), because it is adopted by a majority of the customers.\n",
    "<br>5) Emphasis should not be placed on gaining high ratings from customers, as these ratings do not affect their purchases.\n",
    "<br>6) All products should be made available on Saturdays, because sales are at a peak on Saturdays.\n",
    "<br>7) Marketing strategies adopted in January proved to be the most effective and should be adopted over the rest of the year.\n",
    "<br>8) Any difference in sales strategies or products between January and February might have accounted for the decline in sales and income for that month.**"
   ]
  },
  {
   "cell_type": "markdown",
   "metadata": {},
   "source": [
    "## Conclusion"
   ]
  },
  {
   "cell_type": "markdown",
   "metadata": {},
   "source": [
    "**In order to improve sales at the XYZ supermarket, it is important for the desired products and payment methods to be made available when they are needed by customers.\n",
    "<br> More marketing strategies should also be put in place to prevent a decline in sales over the rest of the year and beyond.**"
   ]
  }
 ],
 "metadata": {
  "kernelspec": {
   "display_name": "Python 3",
   "language": "python",
   "name": "python3"
  },
  "language_info": {
   "codemirror_mode": {
    "name": "ipython",
    "version": 3
   },
   "file_extension": ".py",
   "mimetype": "text/x-python",
   "name": "python",
   "nbconvert_exporter": "python",
   "pygments_lexer": "ipython3",
   "version": "3.7.6"
  }
 },
 "nbformat": 4,
 "nbformat_minor": 4
}
